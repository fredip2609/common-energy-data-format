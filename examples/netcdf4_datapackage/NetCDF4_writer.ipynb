{
 "cells": [
  {
   "cell_type": "code",
   "execution_count": 42,
   "metadata": {},
   "outputs": [],
   "source": [
    "# Full netCDF4 module documentation http://unidata.github.io/netcdf4-python/\n",
    "# Example code taken from http://pyhogs.github.io/intro_netcdf4.html\n",
    "\n",
    "from netCDF4 import Dataset\n",
    "import numpy as np\n",
    "import netCDF4 as nc4\n",
    "import arrow\n",
    "\n",
    "region_data = [\"CH\", \"LI\"]\n",
    "tech_data = [\"WPP1\"]\n",
    "timestep_data = [\"2010-01-01 01:00\",\"2010-01-01 02:00\"]\n",
    "\n",
    "supply_data = [np.matrix([[1, 2],[0, 0]])]\n",
    "demand_data = np.matrix([[0.5, 1.7],[2, 2]])\n",
    "\n",
    "\n",
    "f = nc4.Dataset('D:/netcdf_datapackage.nc','w', format='NETCDF4') #'w' stands for write\n",
    "\n",
    "# Global dimensions will be added to the Dataset\n",
    "f.createDimension('region', len(region_data))\n",
    "f.createDimension('timestep', len(timestep_data))\n",
    "f.createDimension('tech', len(tech_data))\n",
    "\n",
    "region = f.createVariable('Region', 'S4', 'region')\n",
    "timestep = f.createVariable('Timestep', 'S12', 'timestep')  \n",
    "tech = f.createVariable('Technology', 'S8', 'tech')  \n",
    "\n",
    "for i, ireg in enumerate(region_data):\n",
    "    region[i] = ireg\n",
    "for i, itime in enumerate(timestep_data):\n",
    "    timestep[i] = itime\n",
    "for i, itech in enumerate(tech_data):\n",
    "    tech[i] = itech\n",
    "\n",
    "\n",
    "# Scenario data is added to the scenario group\n",
    "# groups represent the hirarchical structure in netcdf4 files\n",
    "tempgrp = f.createGroup('Scenario_1')\n",
    "\n",
    "supply = tempgrp.createVariable('Temperature', 'f4', ('timestep', 'region', 'tech'))\n",
    "demand = tempgrp.createVariable('Demand', 'f4', ('timestep', 'region'))\n",
    "\n",
    "supply[:,:,:] = supply_data\n",
    "demand[:,:] = demand_data\n",
    "               \n",
    "\n",
    "#Add local attributes to variable instances\n",
    "supply.units = 'MWh'\n",
    "demand.units = 'MWh'\n",
    "        \n",
    "\n",
    "#Add global attributes\n",
    "f.description = \"NetCDF4 example data for 8th OpenMod\"\n",
    "f.history = \"Created {}\".format(arrow.utcnow().format('YYYY-MM-DD HH:mm:ss ZZ'))                                \n",
    "                        \n",
    "f.close()"
   ]
  },
  {
   "cell_type": "code",
   "execution_count": 43,
   "metadata": {},
   "outputs": [
    {
     "name": "stdout",
     "output_type": "stream",
     "text": [
      "OrderedDict([('Temperature', <class 'netCDF4._netCDF4.Variable'>\n",
      "float32 Temperature(timestep, region, tech)\n",
      "    units: MWh\n",
      "path = /Scenario_1\n",
      "unlimited dimensions: \n",
      "current shape = (2, 2, 1)\n",
      "filling on, default _FillValue of 9.969209968386869e+36 used\n",
      "), ('Demand', <class 'netCDF4._netCDF4.Variable'>\n",
      "float32 Demand(timestep, region)\n",
      "    units: MWh\n",
      "path = /Scenario_1\n",
      "unlimited dimensions: \n",
      "current shape = (2, 2)\n",
      "filling on, default _FillValue of 9.969209968386869e+36 used\n",
      ")])\n"
     ]
    }
   ],
   "source": [
    "# Open the netcdf file and navigate the Scenario_1 group\n",
    "with nc4.Dataset('D:/netcdf_datapackage.nc','r') as f:\n",
    "    print(f['Scenario_1'].variables)"
   ]
  },
  {
   "cell_type": "code",
   "execution_count": 32,
   "metadata": {},
   "outputs": [],
   "source": []
  },
  {
   "cell_type": "code",
   "execution_count": null,
   "metadata": {
    "collapsed": true
   },
   "outputs": [],
   "source": []
  }
 ],
 "metadata": {
  "kernelspec": {
   "display_name": "Python 3",
   "language": "python",
   "name": "python3"
  },
  "language_info": {
   "codemirror_mode": {
    "name": "ipython",
    "version": 3
   },
   "file_extension": ".py",
   "mimetype": "text/x-python",
   "name": "python",
   "nbconvert_exporter": "python",
   "pygments_lexer": "ipython3",
   "version": "3.4.5"
  }
 },
 "nbformat": 4,
 "nbformat_minor": 2
}
